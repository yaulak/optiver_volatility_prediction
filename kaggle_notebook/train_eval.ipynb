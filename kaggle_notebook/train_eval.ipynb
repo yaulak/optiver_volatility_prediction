!pip install -r requirements.txt
!python src/train.py
#!python src/evaluate.py
