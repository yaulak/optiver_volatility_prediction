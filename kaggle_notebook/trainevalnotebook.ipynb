!pip install -r requirements.txt
!python src/train.py
#!python src/model_comparison.py
